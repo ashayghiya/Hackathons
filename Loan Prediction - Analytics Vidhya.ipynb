{
  "nbformat": 4,
  "nbformat_minor": 0,
  "metadata": {
    "colab": {
      "name": "News Category - Machine Hack v3.ipynb",
      "version": "0.3.2",
      "provenance": [],
      "collapsed_sections": [
        "THql6reHg-4T",
        "ZLWOUH7dS4jE",
        "CLGHMgTK66wF",
        "r-ixnTvp69gz"
      ],
      "include_colab_link": true
    },
    "kernelspec": {
      "name": "python3",
      "display_name": "Python 3"
    },
    "accelerator": "GPU"
  },
  "cells": [
    {
      "cell_type": "markdown",
      "metadata": {
        "id": "view-in-github",
        "colab_type": "text"
      },
      "source": [
        "<a href=\"https://colab.research.google.com/github/ashayghiya/Hackathons/blob/master/Loan%20Prediction%20-%20Analytics%20Vidhya.ipynb\" target=\"_parent\"><img src=\"https://colab.research.google.com/assets/colab-badge.svg\" alt=\"Open In Colab\"/></a>"
      ]
    },
    {
      "cell_type": "markdown",
      "metadata": {
        "id": "THql6reHg-4T",
        "colab_type": "text"
      },
      "source": [
        "# Preprocessing"
      ]
    }
  ]
}